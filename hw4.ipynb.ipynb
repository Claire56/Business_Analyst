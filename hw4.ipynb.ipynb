{
 "cells": [
  {
   "cell_type": "markdown",
   "metadata": {},
   "source": [
    "# Question 1\n",
    "Write a function `get_largest_n(arr,n)`, and test it, that uses NumPy to get the n largest values of an array. "
   ]
  },
  {
   "cell_type": "code",
   "execution_count": 18,
   "metadata": {},
   "outputs": [],
   "source": [
    "import numpy as np\n",
    "def get_largest_n(arr,n):\n",
    "    sorted_arr = np.sort(arr)\n",
    "    result = sorted_arr[-n]\n",
    "    return result\n",
    "l=[1,5,7,2,8,4,9,3]"
   ]
  },
  {
   "cell_type": "code",
   "execution_count": 19,
   "metadata": {},
   "outputs": [
    {
     "data": {
      "text/plain": [
       "8"
      ]
     },
     "execution_count": 19,
     "metadata": {},
     "output_type": "execute_result"
    }
   ],
   "source": [
    "get_largest_n(l,2)"
   ]
  },
  {
   "cell_type": "code",
   "execution_count": null,
   "metadata": {},
   "outputs": [],
   "source": []
  },
  {
   "cell_type": "code",
   "execution_count": null,
   "metadata": {},
   "outputs": [],
   "source": []
  },
  {
   "cell_type": "code",
   "execution_count": null,
   "metadata": {},
   "outputs": [],
   "source": []
  },
  {
   "cell_type": "code",
   "execution_count": null,
   "metadata": {},
   "outputs": [],
   "source": []
  },
  {
   "cell_type": "markdown",
   "metadata": {},
   "source": [
    "# Question 2\n",
    "The following exercise works on data analytics for students grades.\n",
    "- Start by specifiying a random seed of 1234 using `np.random.seed(1234)`\n",
    "- Generate a list that contains 5 classes. ['math', 'programming', 'science', 'statistics', 'art']. Use the function shuffle inside numpy to shuffle the list order. You can google how to use numpy shuffle. **Note that, since you shuffled the list, you have to use logical indexing to access the correct class grades**\n",
    "- Generate an array that has 100 student IDs from 1 to 100. Each student ID will be representing one student\n",
    "- Generate the grades matrix 100X5. Each element is a random integer between 0 and 10. Each row represents the grades of each student in the five classes. For example row 7 in the matrix grades will represent the grades of the five subjects in order, after shuffling the classes names, for the student who has ID 8. In other words, grades[49,3] will return the grade of the class with index of 3 for the student who has ID 50\n",
    "- Calculate the total grade for each student using np.sum and store that in a new matrix called total\n",
    "- Calculate the total letter grade for each student according to the following letter calculations.\n",
    "<br>\n",
    "A\tgreater than 90% and less than 100%\n",
    "<br>\n",
    "B\tgreater than 80% and less than 90%\n",
    "<br>\n",
    "C\tgreater than 70% and less than 80%\n",
    "<br>\n",
    "D\tgreater than 60% and less than 70%\n",
    "<br>\n",
    "F\tless than 60\n",
    "<br>\n",
    "- calculate the average for each class\n",
    "- calculate the variance for each class\n",
    "- How many students have failed programming?\n",
    "- How many students have failed programming but passed math?\n",
    "- What are the IDs of the students who got A in all the classes?\n",
    "- The professor decides that no one shall fail the programming class. Hence, you need to replace the grades of all students who got less than 6 in programming with 6, calculate the new mean and variance for the programming class and compare them with the old mean and variance for the same class. Explain why did that happen"
   ]
  },
  {
   "cell_type": "code",
   "execution_count": 10,
   "metadata": {},
   "outputs": [],
   "source": [
    "import numpy as np \n",
    "np.random.seed(1234)\n",
    "# add your solution here\n"
   ]
  },
  {
   "cell_type": "markdown",
   "metadata": {},
   "source": [
    "# Question 3\n",
    "\n",
    "- start by creating a numpy array called M with one element equal to 1\n",
    "- Using a whie loop, append a random integer between 1 to 10 to M until the appended element is 7\n",
    "- After the number 7 is added, exit the loop and report the number of elements in M and the mean of M using Numpy\n"
   ]
  },
  {
   "cell_type": "code",
   "execution_count": null,
   "metadata": {},
   "outputs": [],
   "source": []
  }
 ],
 "metadata": {
  "kernelspec": {
   "display_name": "Python 3",
   "language": "python",
   "name": "python3"
  },
  "language_info": {
   "codemirror_mode": {
    "name": "ipython",
    "version": 3
   },
   "file_extension": ".py",
   "mimetype": "text/x-python",
   "name": "python",
   "nbconvert_exporter": "python",
   "pygments_lexer": "ipython3",
   "version": "3.7.1"
  }
 },
 "nbformat": 4,
 "nbformat_minor": 4
}
