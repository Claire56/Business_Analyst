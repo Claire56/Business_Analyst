{
 "cells": [
  {
   "cell_type": "markdown",
   "metadata": {},
   "source": [
    "### Problem 1\n",
    "Write a function that checks if a given number is prime or not. Do not use any helping libraries (i.e., no import). A function should be called `is_prime(number)` and should **return** `True` or `False`.\n",
    "<br>\n",
    "For example <br>\n",
    "`print(is_prime(17))` should print `True` while `print(is_prime(16))` should print `False`\n"
   ]
  },
  {
   "cell_type": "code",
   "execution_count": 1,
   "metadata": {},
   "outputs": [],
   "source": [
    "def is_prime(number):\n",
    "    if number<=1: #if the number is 1 or less, it is not a prime number\n",
    "        return False\n",
    "    else:\n",
    "        for i in range(2,number): #for every number in the range of 2 through one less than number\n",
    "            if number%i==0: #if the remainder of the number divided by the numbers in the range is 0\n",
    "                return False #the number is not a prime number\n",
    "        return True #otherwise, it is a prime number"
   ]
  },
  {
   "cell_type": "markdown",
   "metadata": {},
   "source": [
    "### Problem 2\n",
    "**Guessing Game Challenge**\n",
    "<br>\n",
    "Write a program that picks a random integer from 1 to 50, and has players guess the number. The rules are:\n",
    "1. If a player's guess is less than 1 or greater than 50, say \"OUT OF BOUNDS”\n",
    "2. On a player's turn, if their guess is \n",
    "    - within 5 of the target number but larger, return \"WARM Positive!”\n",
    "    - within 5 of the target number but smaller, return \"WARM Negative!”\n",
    "    - further than 5 away from the number, return \"COLD!”\n",
    "3. When the player's guess equals the number, tell them they've guessed correctly. what was the target number and how many guesses it took!"
   ]
  },
  {
   "cell_type": "code",
   "execution_count": 2,
   "metadata": {},
   "outputs": [
    {
     "name": "stdin",
     "output_type": "stream",
     "text": [
      "What do you think the number is?  2\n"
     ]
    },
    {
     "name": "stdout",
     "output_type": "stream",
     "text": [
      "COLD!\n"
     ]
    },
    {
     "name": "stdin",
     "output_type": "stream",
     "text": [
      "Try again!  20\n"
     ]
    },
    {
     "name": "stdout",
     "output_type": "stream",
     "text": [
      "WARM positive!\n"
     ]
    },
    {
     "name": "stdin",
     "output_type": "stream",
     "text": [
      "Try again!  18\n"
     ]
    },
    {
     "name": "stdout",
     "output_type": "stream",
     "text": [
      "WARM positive!\n"
     ]
    },
    {
     "name": "stdin",
     "output_type": "stream",
     "text": [
      "Try again!  17\n"
     ]
    },
    {
     "name": "stdout",
     "output_type": "stream",
     "text": [
      "WARM positive!\n"
     ]
    },
    {
     "name": "stdin",
     "output_type": "stream",
     "text": [
      "Try again!  15\n"
     ]
    },
    {
     "name": "stdout",
     "output_type": "stream",
     "text": [
      "WARM Negative!\n"
     ]
    },
    {
     "name": "stdin",
     "output_type": "stream",
     "text": [
      "Try again!  16\n"
     ]
    },
    {
     "name": "stdout",
     "output_type": "stream",
     "text": [
      "You guessed correctly!\n",
      "The number was  16\n",
      "6\n"
     ]
    }
   ],
   "source": [
    "import random #import the random library\n",
    "number=random.randint(1,50) #the random number will be between 1 and 50\n",
    "tries=1 #recording the number of tries starts at 1\n",
    "guess=int(input(\"What do you think the number is? \")) #ask the user to guess a #, use int() so it's recognized as one\n",
    "while number!=guess: #this loop repeats when the number that the user guesses isn't the chosen number\n",
    "    if guess>50 or guess<1:\n",
    "        print('OUT OF BOUNDS!') #if the guess is less than 1 or greater than 50, say out of bounds!\n",
    "    elif (guess-number)>=0 and (guess-number)<=5: #the difference between guess and number would be between 0-5\n",
    "        print('WARM positive!') #if the guess is greater than number by 5 or less, print warm positive\n",
    "    elif (guess-number)<0 and (guess-number)>=-5: #the difference between guess and number would be between 0-(-5)\n",
    "        print('WARM Negative!') #if the guess is less than number by 5 or less, print warm positive\n",
    "    else:\n",
    "        print(\"COLD!\") #if the guess doesn't fall into any of the above categories, print cold\n",
    "    guess=int(input('Try again! ')) #ask the user to try again, the guess is now this number, not the original one\n",
    "    tries=tries+1 #add one to the number of tries (started at one so don't need to add unless they guess again)\n",
    "print('You guessed correctly!') #when the condition for the while loop isn't satisfied (guess!=number), it will pass that loop and go here\n",
    "print('The number was ',number)\n",
    "print(tries)"
   ]
  },
  {
   "cell_type": "code",
   "execution_count": 6,
   "metadata": {},
   "outputs": [
    {
     "name": "stdout",
     "output_type": "stream",
     "text": [
      "4\n"
     ]
    },
    {
     "name": "stdin",
     "output_type": "stream",
     "text": [
      "Guess a number:  2\n"
     ]
    },
    {
     "name": "stdout",
     "output_type": "stream",
     "text": [
      "['WARM Negative!']\n"
     ]
    },
    {
     "name": "stdin",
     "output_type": "stream",
     "text": [
      "Guess a number:  88\n"
     ]
    },
    {
     "name": "stdout",
     "output_type": "stream",
     "text": [
      "['OUT OF BOUNDS']\n"
     ]
    },
    {
     "name": "stdin",
     "output_type": "stream",
     "text": [
      "Guess a number:  7\n"
     ]
    },
    {
     "name": "stdout",
     "output_type": "stream",
     "text": [
      "['WARM Positive!']\n"
     ]
    },
    {
     "name": "stdin",
     "output_type": "stream",
     "text": [
      "Guess a number:  3\n"
     ]
    },
    {
     "name": "stdout",
     "output_type": "stream",
     "text": [
      "['WARM Negative!']\n"
     ]
    },
    {
     "name": "stdin",
     "output_type": "stream",
     "text": [
      "Guess a number:  4\n"
     ]
    },
    {
     "name": "stdout",
     "output_type": "stream",
     "text": [
      "['Congratualtions!!! You Guessed correctly.The number of iterations->5']\n"
     ]
    }
   ],
   "source": [
    "# check this solution if you want to learn how to do a print and if in one line\n",
    "import random\n",
    "num_times=0\n",
    "guess= 999\n",
    "target=random.randint(1,50) # Generating random number from 1 to 50\n",
    "print(target)\n",
    "\n",
    "# Creating a list for different results.\n",
    "result=['OUT OF BOUNDS', 'WARM Negative!', 'WARM Positive!', 'COLD', 'Congratualtions!!! You Guessed correctly.The number of iterations->']\n",
    "while target!=guess:\n",
    "    guess=int(input(\"Guess a number: \"))\n",
    "    num_times=num_times+1 # Counting for number of iterations that user has take to guess the number\n",
    "    diff=target-guess\n",
    "    print([result[0] if guess not in range(1,51) # checking for different conditions\n",
    "                else result[4]+str(num_times) if diff==0 \n",
    "                else result[2] if diff in range(-4, 0)\n",
    "                else result[1] if diff in range(1,5)        \n",
    "                else result[3] if abs(diff) >= 5 else \"Try Again\"\n",
    "\n",
    "         ])\n",
    "    "
   ]
  },
  {
   "cell_type": "markdown",
   "metadata": {},
   "source": [
    "## Problem 3\n",
    "We have a list of students. Each student has a name which is paired up with another list of subjects that they are enrolled for. Print out each student name, and the number of subjects they are enrolled for."
   ]
  },
  {
   "cell_type": "code",
   "execution_count": 1,
   "metadata": {},
   "outputs": [
    {
     "name": "stdout",
     "output_type": "stream",
     "text": [
      "Alejandro 2\n",
      "Justin 3\n",
      "Ed 3\n",
      "Margot 4\n",
      "Peter 5\n"
     ]
    }
   ],
   "source": [
    "students = [(\"Alejandro\", [\"CompSci\", \"Physics\"]),\n",
    "            (\"Justin\", [\"Math\", \"CompSci\", \"Stats\"]),\n",
    "            (\"Ed\", [\"CompSci\", \"Accounting\", \"Economics\"]),\n",
    "            (\"Margot\", [\"InfSys\", \"Accounting\", \"Economics\", \"CommLaw\"]),\n",
    "            (\"Peter\", [\"Sociology\", \"Economics\", \"Law\", \"Stats\", \"Music\"])]\n",
    "# Code here \n",
    "for student in students:\n",
    "    print(student[0], len(student[1]))"
   ]
  },
  {
   "cell_type": "markdown",
   "metadata": {},
   "source": [
    "## Bonus Question\n",
    "how many students are taking CompSci class. Solve using only one for loop"
   ]
  },
  {
   "cell_type": "code",
   "execution_count": 2,
   "metadata": {},
   "outputs": [],
   "source": [
    "count=0\n",
    "for student in students:\n",
    "    count=count+int('CompSci'in student[1])"
   ]
  }
 ],
 "metadata": {
  "kernelspec": {
   "display_name": "Python 3",
   "language": "python",
   "name": "python3"
  },
  "language_info": {
   "codemirror_mode": {
    "name": "ipython",
    "version": 3
   },
   "file_extension": ".py",
   "mimetype": "text/x-python",
   "name": "python",
   "nbconvert_exporter": "python",
   "pygments_lexer": "ipython3",
   "version": "3.6.7"
  }
 },
 "nbformat": 4,
 "nbformat_minor": 2
}
