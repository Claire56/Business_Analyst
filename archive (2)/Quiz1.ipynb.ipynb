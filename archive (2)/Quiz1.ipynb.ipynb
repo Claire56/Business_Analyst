{
 "cells": [
  {
   "cell_type": "markdown",
   "metadata": {},
   "source": [
    "# Question 1\n",
    "Create two new dictionaries, prices and stock.  Fill up the prices dict with the prices of items and the other contains the number of items in the stock. The following shows both prices and stock dictionary values"
   ]
  },
  {
   "cell_type": "raw",
   "metadata": {},
   "source": [
    "# here are the items and prices\n",
    "\"banana\": 4,\n",
    "\"apple\": 2,\n",
    "\"orange\": -1.5,\n",
    "\"pear\": 3"
   ]
  },
  {
   "cell_type": "raw",
   "metadata": {},
   "source": [
    "# here are the items and how many of it in the stock\n",
    "\"banana\": 6,\n",
    "\"apple\": 0,\n",
    "\"orange\": 32,\n",
    "\"pear\": -15"
   ]
  },
  {
   "cell_type": "markdown",
   "metadata": {},
   "source": [
    "a) It looks like this dictionary is subjected to some human entry errors as some quantities and prices are negative. Your code needs to fix it by converting the negative values to positive. After that, For each item in the dictornary display the item, number of items in the stock, and item price. An example for the given dictionary will be\n",
    "<br>\n",
    "**we have 6 of banana priced at $4**\n",
    "<br>\n",
    "and so on for each item\n",
    "\n"
   ]
  },
  {
   "cell_type": "markdown",
   "metadata": {},
   "source": [
    "b) Determine how much money you would make if you sold all of your food stock"
   ]
  },
  {
   "cell_type": "code",
   "execution_count": null,
   "metadata": {},
   "outputs": [],
   "source": [
    "# solve here\n",
    "# hint to loop over a dictionary keys you can use\n",
    "# for food in prices\n",
    "\n"
   ]
  },
  {
   "cell_type": "markdown",
   "metadata": {},
   "source": [
    "# Question 2\n",
    "Use python to find out the solution for the quadratic equation 2x^2-12x-9=0"
   ]
  },
  {
   "cell_type": "code",
   "execution_count": 12,
   "metadata": {},
   "outputs": [],
   "source": [
    "# solve here\n",
    "\n",
    "\n",
    "\n",
    "\n"
   ]
  }
 ],
 "metadata": {
  "kernelspec": {
   "display_name": "Python 3",
   "language": "python",
   "name": "python3"
  },
  "language_info": {
   "codemirror_mode": {
    "name": "ipython",
    "version": 3
   },
   "file_extension": ".py",
   "mimetype": "text/x-python",
   "name": "python",
   "nbconvert_exporter": "python",
   "pygments_lexer": "ipython3",
   "version": "3.7.0"
  }
 },
 "nbformat": 4,
 "nbformat_minor": 2
}
