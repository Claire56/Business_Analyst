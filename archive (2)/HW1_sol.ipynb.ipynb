{
 "cells": [
  {
   "cell_type": "markdown",
   "metadata": {},
   "source": [
    "**Write a program that asks the user for an input of date components (day, monty and year). Display the output data in the format of date/month/year for example if the user inputs day as 5, month as 3 and year as 1998, you print out the entered date is 5/3/1998**"
   ]
  },
  {
   "cell_type": "code",
   "execution_count": 1,
   "metadata": {},
   "outputs": [
    {
     "name": "stdout",
     "output_type": "stream",
     "text": [
      "Hello! Thank you for using this Date Formatting Tool. Please provide the following\n",
      "Day:3\n",
      "Month:3\n",
      "Year:1995\n",
      "The entered date is 3/3/1995\n"
     ]
    }
   ],
   "source": [
    "# Provide instructions to user\n",
    "print('Hello! Thank you for using this Date Formatting Tool. Please provide the following')\n",
    "\n",
    "#Provide user with prompts to provide values for the Variables\n",
    "Day = input('Day:')\n",
    "Month = input('Month:')\n",
    "Year = input('Year:')\n",
    "x\n",
    "#Concatenate the Variables\n",
    "\n",
    "Date = Day+'/'+Month+'/'+Year\n",
    "\n",
    "        \n",
    "#Print the result of inputs\n",
    "print('The entered date is '+ Date) "
   ]
  },
  {
   "cell_type": "markdown",
   "metadata": {},
   "source": [
    "Note: The most optimal way to solve this will be for us to add checks against wrong user enteries, for example a user entering non integer numbers or a user entering month as greater than 12, ... etc. We will be doing this later once we learn the tools that enables us for that"
   ]
  },
  {
   "cell_type": "markdown",
   "metadata": {},
   "source": [
    "**Use python to find out the solution for the quadratic equation 2x^2-12x-9=0**"
   ]
  },
  {
   "cell_type": "code",
   "execution_count": 2,
   "metadata": {},
   "outputs": [
    {
     "name": "stdout",
     "output_type": "stream",
     "text": [
      "Enter a value for a: 2\n",
      "Enter a value for b: -12\n",
      "Enter a value for c: -9\n",
      "The zeros of the entered equation are: 6.674234614174767 and -0.6742346141747673\n"
     ]
    }
   ],
   "source": [
    "# See the values of a, b, and c per the HW assignment\n",
    "\n",
    "# Type casting inputs to integers. You may also declare a,b and c within your own code as a=2, b=-12, ...\n",
    "#but this is more general\n",
    "\n",
    "a = int(input('Enter a value for a: '))      #Test with 2\n",
    "b = int(input('Enter a value for b: '))      #Test with -12\n",
    "c = int(input('Enter a value for c: '))      #Test with -9\n",
    "\n",
    "# calculate the discriminant (part of equation inside the sqrt)\n",
    "discriminant = pow(b,2) - (4*a*c)\n",
    "\n",
    "# Calculate two solutions for +/-\n",
    "zero1 = (-b+pow(discriminant,.5))/(2*a)\n",
    "zero2 = (-b-pow(discriminant,.5))/(2*a)\n",
    "\n",
    "# Print out formated solution\n",
    "print('The zeros of the entered equation are: ' + str(zero1)+' and '+str(zero2))"
   ]
  },
  {
   "cell_type": "markdown",
   "metadata": {},
   "source": [
    "as an extra step you may test your outcomes to make sure that it actually zeros the equation"
   ]
  },
  {
   "cell_type": "code",
   "execution_count": 5,
   "metadata": {},
   "outputs": [
    {
     "name": "stdout",
     "output_type": "stream",
     "text": [
      "substituting first zero in the equation results in 0.0\n",
      "substituting first zero in the equation results in 0.0\n"
     ]
    }
   ],
   "source": [
    "value1=2*zero1**2-12*zero1-9\n",
    "print('substituting first zero in the equation results in ' + str(value1))\n",
    "value2=2*zero2**2-12*zero2-9\n",
    "print('substituting first zero in the equation results in ' + str(value1))"
   ]
  }
 ],
 "metadata": {
  "kernelspec": {
   "display_name": "Python 3",
   "language": "python",
   "name": "python3"
  },
  "language_info": {
   "codemirror_mode": {
    "name": "ipython",
    "version": 3
   },
   "file_extension": ".py",
   "mimetype": "text/x-python",
   "name": "python",
   "nbconvert_exporter": "python",
   "pygments_lexer": "ipython3",
   "version": "3.7.3"
  }
 },
 "nbformat": 4,
 "nbformat_minor": 4
}
