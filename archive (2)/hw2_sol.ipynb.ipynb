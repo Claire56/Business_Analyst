{
 "cells": [
  {
   "cell_type": "markdown",
   "metadata": {},
   "source": [
    "# Question 1\n",
    "Write a python function called swap_on_demand(list1, ind1, list2, ind2). The function is supposed to take four inputs list1, ind1, list2, ind2. Your function is supposed to swap the element that has index ind1 in list1 with the element that has ind2 in list2 then print out both lists after swapping For example, (you can also use the example to test out your function): If I define `pets=['cats', 'dogs', 'shark','fish']` and `birds = ['canary', 'parrot', 'cockatoo','lovebird']` Calling your function as `swap_on_demand(pets, 2, birds, 1)` should result in the following prints statements `['cats', 'dogs', ‘parrot','fish']` `['canary', 'shark', 'cockatoo','lovebird']`"
   ]
  },
  {
   "cell_type": "code",
   "execution_count": null,
   "metadata": {},
   "outputs": [],
   "source": []
  },
  {
   "cell_type": "code",
   "execution_count": 2,
   "metadata": {},
   "outputs": [
    {
     "name": "stdout",
     "output_type": "stream",
     "text": [
      "['cats', 'dogs', 'parrot', 'fish']\n",
      "['canary', 'shark', 'cockatoo', 'lovebird']\n"
     ]
    }
   ],
   "source": [
    "# Function \n",
    "def  swap_on_demand(list1, ind1, list2, ind2):\n",
    "    #swap the element that has index ind1 in list1 with the element that has ind2 in list2\n",
    "    temp = list1[ind1]\n",
    "    list1[ind1] = list2[ind2]\n",
    "    list2[ind2] = temp\n",
    "    print(list1)\n",
    "    print(list2)\n",
    "\n",
    "pets=['cats', 'dogs', 'shark','fish']\n",
    "birds = ['canary', 'parrot', 'cockatoo','lovebird']\n",
    "swap_on_demand(pets, 2, birds, 1)"
   ]
  },
  {
   "cell_type": "markdown",
   "metadata": {},
   "source": [
    "**A more extensive solution to check for different problems**\n",
    "such as the indices given is not in the list"
   ]
  },
  {
   "cell_type": "code",
   "execution_count": 6,
   "metadata": {},
   "outputs": [
    {
     "name": "stdout",
     "output_type": "stream",
     "text": [
      "['cats', 'dogs', 'parrot', 'fish']\n",
      "['canary', 'shark', 'cockatoo', 'lovebird']\n"
     ]
    }
   ],
   "source": [
    "def  swap_on_demand(list1, ind1, list2, ind2):\n",
    "    # getting the size of each list\n",
    "    size_list1 = len(list1)\n",
    "    size_list2 = len(list2)\n",
    "    \n",
    "    # Making sure list 1 is not empty and the index given for list 1 is actually present on the list\n",
    "    if (size_list1>0 and ind1<size_list1):\n",
    "        \n",
    "        # Making sure list 2 is not empty and the index given for list 2 is actually present on the list\n",
    "        if (size_list2>0 and ind2<size_list2 ):\n",
    "            \n",
    "            # before swapping, checking to see if the list1 has an index of ind2 and list 2 has an index of ind1\n",
    "            if (ind1 < size_list2 and ind2<size_list1):\n",
    "                # storing the element from list 1 in a temporary variable\n",
    "                temp = list1[ind1]\n",
    "                \n",
    "                # swap\n",
    "                list1[ind1] = list2[ind2]                           \n",
    "                list2[ind2] = temp\n",
    "                print(list1)\n",
    "                print(list2)\n",
    "            \n",
    "            # prints error message when either list 1 or 2 are not big enough to swap\n",
    "            else:\n",
    "                print(\"Cannot swap elements as given index doesn't exist in either of the list\")\n",
    "            \n",
    "        # prints error message when either list 2 is empty or doesnt have the index specified by the user\n",
    "        else:\n",
    "            print(\"Either the list2 is empty or the given index doesnt exist in the list2\")\n",
    "            \n",
    "    # prints error message when either list 1 is empty or doesnt have the index specified by the user\n",
    "    else:\n",
    "        print(\"Either the list1 is empty or the given index doesnt exist in the list1\")\n",
    "        \n",
    "        \n",
    "pets=['cats', 'dogs', 'shark','fish'] \n",
    "birds = ['canary', 'parrot', 'cockatoo','lovebird'] \n",
    "\n",
    "swap_on_demand(pets,2,birds,1)"
   ]
  },
  {
   "cell_type": "markdown",
   "metadata": {},
   "source": [
    "# Question 2\n",
    "Given the following dictionary:\n"
   ]
  },
  {
   "cell_type": "code",
   "execution_count": 4,
   "metadata": {},
   "outputs": [],
   "source": [
    "inventory = {\n",
    "    'gold' : 500,\n",
    "    'pouch' : ['flint', 'twine', 'gemstone'],\n",
    "    'backpack' : ['xylophone','dagger', 'bedroll','bread loaf']\n",
    "}"
   ]
  },
  {
   "cell_type": "markdown",
   "metadata": {},
   "source": [
    "Try to do the followings:\n",
    "Add a key to inventory called 'pocket'.\n",
    "<br>\n",
    "Set the value of 'pocket' to be a list consisting of the strings 'seashell', 'strange berry', and 'lint'.\n",
    "<br>\n",
    ".sort()the items in the list stored under the 'backpack' key.\n",
    "<br>\n",
    "Then .remove('dagger') from the list of items stored under the 'backpack' key.\n",
    "<br>\n",
    "Add 50 to the number stored under the 'gold' key.\n",
    "<br>\n",
    "Show the final dictionary"
   ]
  },
  {
   "cell_type": "code",
   "execution_count": 5,
   "metadata": {},
   "outputs": [
    {
     "data": {
      "text/plain": [
       "{'gold': 550,\n",
       " 'pouch': ['flint', 'twine', 'gemstone'],\n",
       " 'backpack': ['bedroll', 'bread loaf', 'xylophone'],\n",
       " 'pocket': ['seashell', 'strange berry', 'lint']}"
      ]
     },
     "execution_count": 5,
     "metadata": {},
     "output_type": "execute_result"
    }
   ],
   "source": [
    "inventory = {\n",
    " 'gold' : 500,\n",
    " 'pouch' : ['flint', 'twine', 'gemstone'],\n",
    " 'backpack' : ['xylophone','dagger', 'bedroll','bread loaf']\n",
    "}\n",
    "# Add a key to inventory called 'pocket'.\n",
    "#Set the value of 'pocket' to be a list consisting of the strings: seashell, strange berry, lint\n",
    "inventory.update({'pocket': ['seashell', 'strange berry', 'lint']});\n",
    "#sort the items in the list stored under the 'backpack' key.\n",
    "inventory['backpack'].sort()\n",
    "#Remove 'dagger'\n",
    "inventory['backpack'].remove('dagger')\n",
    "#Add 50 to the number stored under the 'gold' key.\n",
    "inventory['gold'] = inventory['gold'] + 50  \n",
    "#print out final dictionary\n",
    "inventory\n"
   ]
  },
  {
   "cell_type": "code",
   "execution_count": null,
   "metadata": {},
   "outputs": [],
   "source": []
  }
 ],
 "metadata": {
  "kernelspec": {
   "display_name": "Python 3",
   "language": "python",
   "name": "python3"
  },
  "language_info": {
   "codemirror_mode": {
    "name": "ipython",
    "version": 3
   },
   "file_extension": ".py",
   "mimetype": "text/x-python",
   "name": "python",
   "nbconvert_exporter": "python",
   "pygments_lexer": "ipython3",
   "version": "3.7.3"
  }
 },
 "nbformat": 4,
 "nbformat_minor": 4
}
